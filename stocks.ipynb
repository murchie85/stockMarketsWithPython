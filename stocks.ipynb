{
 "cells": [
  {
   "cell_type": "markdown",
   "metadata": {},
   "source": [
    "# Stock ETL Analytics\n",
    "  \n",
    "Some quick notes on how to use Python for pulling stock market information using popular libraries.   \n",
    "  \n",
    "  \n",
    "- First example using **yfinance** \n",
    "- Second example using with **yahoofinancials**\n",
    "- Stretch `Quandl, Intrinion, AlphaVantage, Tiingo, IEX Cloud`  \n",
    "\n",
    "Ensure you run the following from terminal:  \n",
    "  \n",
    "  \n",
    "```python\n",
    "pip install yfinance\n",
    "\n",
    "pip install yahoofinancials\n",
    "```\n",
    "\n",
    "   \n",
    "\n"
   ]
  },
  {
   "cell_type": "code",
   "execution_count": null,
   "metadata": {},
   "outputs": [],
   "source": [
    "import pandas as pd\n",
    "import yfinance as yf\n"
   ]
  },
  {
   "cell_type": "code",
   "execution_count": null,
   "metadata": {},
   "outputs": [],
   "source": [
    "# STOCKS FOR Bio-Rad Laboratories Inc.\n",
    "\n",
    "bio_df = yf.download('BIO', \n",
    "                      start='2021-01-01', \n",
    "                      end='2021-01-27', \n",
    "                      progress=False)\n",
    "bio_df.head()"
   ]
  },
  {
   "cell_type": "code",
   "execution_count": null,
   "metadata": {},
   "outputs": [],
   "source": [
    "#1m, 5m, 15m, 30m, 60m, 1h, 1d, 1wk, 1mo\n",
    "bio_df = yf.download('BIO', \n",
    "                      start='2021-01-25', \n",
    "                      end='2021-01-27', \n",
    "                      interval = '1h',\n",
    "                      progress=False)\n",
    "bio_df"
   ]
  },
  {
   "cell_type": "markdown",
   "metadata": {},
   "source": [
    "# Multi Download"
   ]
  },
  {
   "cell_type": "code",
   "execution_count": null,
   "metadata": {},
   "outputs": [],
   "source": [
    "tickers = ['msft', 'aapl', 'twtr', 'intc', 'tsm', 'goog', 'amzn', 'fb', 'nvda']\n",
    "multi_df = yf.download(tickers,\n",
    "                      start='2021-01-25', \n",
    "                      end='2021-01-27', \n",
    "                      interval = '1h',\n",
    "                      progress=True)"
   ]
  },
  {
   "cell_type": "code",
   "execution_count": null,
   "metadata": {},
   "outputs": [],
   "source": [
    "multi_df.head()\n"
   ]
  },
  {
   "cell_type": "code",
   "execution_count": null,
   "metadata": {},
   "outputs": [],
   "source": []
  },
  {
   "cell_type": "code",
   "execution_count": null,
   "metadata": {},
   "outputs": [],
   "source": []
  },
  {
   "cell_type": "code",
   "execution_count": null,
   "metadata": {},
   "outputs": [],
   "source": [
    "from yahoofinancials import YahooFinancials"
   ]
  },
  {
   "cell_type": "markdown",
   "metadata": {},
   "source": [
    "# Spark"
   ]
  },
  {
   "cell_type": "code",
   "execution_count": null,
   "metadata": {},
   "outputs": [],
   "source": [
    "#import findspark\n",
    "#findspark.init('/opt/apache-spark/spark-2.4.7-bin-hadoop2.7')\n",
    "#from pyspark.sql import SparkSession"
   ]
  },
  {
   "cell_type": "markdown",
   "metadata": {},
   "source": [
    "### Useful Resources   \n",
    "\n",
    "[Yfinance Home](https://pypi.org/project/yfinance/) comes with **ticker** example  \n",
    "[tutorial link](https://towardsdatascience.com/a-comprehensive-guide-to-downloading-stock-prices-in-python-2cd93ff821d4)"
   ]
  },
  {
   "cell_type": "code",
   "execution_count": null,
   "metadata": {},
   "outputs": [],
   "source": []
  }
 ],
 "metadata": {
  "kernelspec": {
   "display_name": "Python 3",
   "language": "python",
   "name": "python3"
  },
  "language_info": {
   "codemirror_mode": {
    "name": "ipython",
    "version": 3
   },
   "file_extension": ".py",
   "mimetype": "text/x-python",
   "name": "python",
   "nbconvert_exporter": "python",
   "pygments_lexer": "ipython3",
   "version": "3.7.6"
  }
 },
 "nbformat": 4,
 "nbformat_minor": 4
}
